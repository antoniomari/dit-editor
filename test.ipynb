{
 "cells": [
  {
   "cell_type": "code",
   "execution_count": 1,
   "metadata": {},
   "outputs": [
    {
     "name": "stdout",
     "output_type": "stream",
     "text": [
      "/Users/antoniomari\n"
     ]
    },
    {
     "name": "stderr",
     "output_type": "stream",
     "text": [
      "/Users/antoniomari/dit-editor/venv/lib/python3.12/site-packages/tqdm/auto.py:21: TqdmWarning: IProgress not found. Please update jupyter and ipywidgets. See https://ipywidgets.readthedocs.io/en/stable/user_install.html\n",
      "  from .autonotebook import tqdm as notebook_tqdm\n"
     ]
    }
   ],
   "source": [
    "\n",
    "import os, sys\n",
    "from pathlib import Path\n",
    "\n",
    "# Add parent directory to sys.path\n",
    "parent_dir = Path.cwd().parent.resolve()\n",
    "if str(parent_dir) not in sys.path:\n",
    "    sys.path.insert(0, str(parent_dir))\n",
    "\n",
    "# Verify that the path has been added correctly\n",
    "print(sys.path[0])\n",
    "\n",
    "from diffusers import FluxPipeline, PixArtSigmaPipeline\n",
    "import torch\n",
    "import os\n",
    "\n",
    "os.environ['HF_HOME'] = '.'\n",
    "os.environ['TRANSFORMERS_CACHE'] = '.'\n",
    "os.environ['HF_DATASETS_CACHE'] = '.'\n",
    "\n",
    "import numpy as np\n",
    "from PIL import Image\n",
    "from importlib import reload\n"
   ]
  },
  {
   "cell_type": "code",
   "execution_count": null,
   "metadata": {},
   "outputs": [
    {
     "name": "stderr",
     "output_type": "stream",
     "text": [
      "Fetching 13 files:   0%|          | 0/13 [00:00<?, ?it/s]"
     ]
    }
   ],
   "source": [
    "pipe = PixArtSigmaPipeline.from_pretrained(\n",
    "    \"PixArt-alpha/PixArt-Sigma-XL-2-1024-MS\", \n",
    "    torch_dtype=torch.float16,\n",
    "    device_map=\"balanced\"\n",
    ")"
   ]
  }
 ],
 "metadata": {
  "kernelspec": {
   "display_name": "venv",
   "language": "python",
   "name": "python3"
  },
  "language_info": {
   "codemirror_mode": {
    "name": "ipython",
    "version": 3
   },
   "file_extension": ".py",
   "mimetype": "text/x-python",
   "name": "python",
   "nbconvert_exporter": "python",
   "pygments_lexer": "ipython3",
   "version": "3.12.7"
  }
 },
 "nbformat": 4,
 "nbformat_minor": 2
}
