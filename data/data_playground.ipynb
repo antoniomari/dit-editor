{
 "cells": [
  {
   "cell_type": "markdown",
   "id": "24bce4d2",
   "metadata": {},
   "source": [
    "## Testing Playground"
   ]
  },
  {
   "cell_type": "code",
   "execution_count": 2,
   "id": "a90aaae6",
   "metadata": {},
   "outputs": [
    {
     "name": "stdout",
     "output_type": "stream",
     "text": [
      "/Users/luca/Library/CloudStorage/OneDrive-Personal/Dokumente/17_EPFL/Visual Intelligence/Project/dit-editor/data\n"
     ]
    }
   ],
   "source": [
    "import os\n",
    "from benchmark_data import gather_images\n",
    "\n",
    "print(os.getcwd())"
   ]
  },
  {
   "cell_type": "code",
   "execution_count": null,
   "id": "d2c0e50a",
   "metadata": {},
   "outputs": [],
   "source": [
    "# load all benchmark images (around 300)\n",
    "os_path = \"../data/images/\"\n",
    "all_images = gather_images(os_path)"
   ]
  },
  {
   "cell_type": "code",
   "execution_count": 1,
   "id": "f2f11081",
   "metadata": {},
   "outputs": [
    {
     "ename": "NameError",
     "evalue": "name 'all_images' is not defined",
     "output_type": "error",
     "traceback": [
      "\u001b[31m---------------------------------------------------------------------------\u001b[39m",
      "\u001b[31mNameError\u001b[39m                                 Traceback (most recent call last)",
      "\u001b[36mCell\u001b[39m\u001b[36m \u001b[39m\u001b[32mIn[1]\u001b[39m\u001b[32m, line 1\u001b[39m\n\u001b[32m----> \u001b[39m\u001b[32m1\u001b[39m example = \u001b[43mall_images\u001b[49m[\u001b[32m0\u001b[39m]\n\u001b[32m      2\u001b[39m \u001b[38;5;28mprint\u001b[39m(example.category)\n\u001b[32m      3\u001b[39m \u001b[38;5;28mprint\u001b[39m(example.prompt)\n",
      "\u001b[31mNameError\u001b[39m: name 'all_images' is not defined"
     ]
    }
   ],
   "source": [
    "example = all_images[0]\n",
    "print(example.category)\n",
    "print(example.prompt)\n",
    "\n",
    "# Plot the example\n",
    "example.plot_sample()"
   ]
  }
 ],
 "metadata": {
  "kernelspec": {
   "display_name": "visual_intelligence",
   "language": "python",
   "name": "python3"
  },
  "language_info": {
   "codemirror_mode": {
    "name": "ipython",
    "version": 3
   },
   "file_extension": ".py",
   "mimetype": "text/x-python",
   "name": "python",
   "nbconvert_exporter": "python",
   "pygments_lexer": "ipython3",
   "version": "3.12.9"
  }
 },
 "nbformat": 4,
 "nbformat_minor": 5
}
